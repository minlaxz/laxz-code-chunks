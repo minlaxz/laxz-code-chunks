{
 "cells": [
  {
   "cell_type": "markdown",
   "metadata": {},
   "source": [
    "[Link for below equations](https://www.electronics-tutorials.ws/waveforms/555-circuits-part-2.html)"
   ]
  },
  {
   "cell_type": "markdown",
   "metadata": {},
   "source": [
    "![image](https://www.electronics-tutorials.ws/wp-content/uploads/2019/07/tim76.gif)"
   ]
  },
  {
   "cell_type": "code",
   "execution_count": 1,
   "metadata": {},
   "outputs": [],
   "source": [
    "def calc_this(r1,r2):\n",
    "    print('R1 is set to:',r1)\n",
    "    print('R2 is set to:',r2)\n",
    "    print('555 timer astable mode duty cycle.')\n",
    "    d = (r1+r2) / (r1+ 2*r2)\n",
    "    print(d)\n",
    "    print('if input voltage is 12V, output will be: {} volt.'.format(d*12))\n",
    "    timing(r1,r2)"
   ]
  },
  {
   "cell_type": "code",
   "execution_count": 2,
   "metadata": {},
   "outputs": [],
   "source": [
    "def timing(r1,r2):\n",
    "    c = input('enter c value:{ }uF.')\n",
    "    c = int(c)*10**-6\n",
    "    print('timing.')\n",
    "    t1 = 0.693*(r1+r2)*c\n",
    "    t2 = 0.693*(r2)*c\n",
    "    print('on time(t1): {} sec'.format(t1))\n",
    "    print('off time(t2): {} sec'.format(t2))"
   ]
  },
  {
   "cell_type": "code",
   "execution_count": 6,
   "metadata": {},
   "outputs": [
    {
     "name": "stdout",
     "output_type": "stream",
     "text": [
      "R1 is set to: 1000\n",
      "R2 is set to: 15000\n",
      "555 timer astable mode duty cycle.\n",
      "0.5161290322580645\n",
      "if input voltage is 12V, output will be: 6.193548387096774 volt.\n"
     ]
    },
    {
     "name": "stdin",
     "output_type": "stream",
     "text": [
      "enter c value:{ }uF. 3300\n"
     ]
    },
    {
     "name": "stdout",
     "output_type": "stream",
     "text": [
      "timing.\n",
      "on time(t1): 36.5904 sec\n",
      "off time(t2): 34.3035 sec\n"
     ]
    }
   ],
   "source": [
    "calc_this(1000,15000)"
   ]
  },
  {
   "cell_type": "code",
   "execution_count": 4,
   "metadata": {},
   "outputs": [
    {
     "name": "stdout",
     "output_type": "stream",
     "text": [
      "R1 is set to: 15000\n",
      "R2 is set to: 1000\n",
      "555 timer astable mode duty cycle.\n",
      "0.9411764705882353\n",
      "if input voltage is 12V, output will be: 11.294117647058822 volt.\n"
     ]
    },
    {
     "name": "stdin",
     "output_type": "stream",
     "text": [
      "enter c value:{ }uF. 3300\n"
     ]
    },
    {
     "name": "stdout",
     "output_type": "stream",
     "text": [
      "timing.\n",
      "on time(t1): 36.5904 sec\n",
      "off time(t2): 2.2869 sec\n"
     ]
    }
   ],
   "source": [
    "calc_this(15000,1000)"
   ]
  },
  {
   "cell_type": "code",
   "execution_count": 5,
   "metadata": {},
   "outputs": [
    {
     "name": "stdout",
     "output_type": "stream",
     "text": [
      "R1 is set to: 22000\n",
      "R2 is set to: 20000\n",
      "555 timer astable mode duty cycle.\n",
      "0.6774193548387096\n",
      "if input voltage is 12V, output will be: 8.129032258064516 volt.\n"
     ]
    },
    {
     "name": "stdin",
     "output_type": "stream",
     "text": [
      "enter c value:{ }uF. 3300\n"
     ]
    },
    {
     "name": "stdout",
     "output_type": "stream",
     "text": [
      "timing.\n",
      "on time(t1): 96.04979999999999 sec\n",
      "off time(t2): 45.73799999999999 sec\n"
     ]
    }
   ],
   "source": [
    "calc_this(22000,20000)"
   ]
  },
  {
   "cell_type": "code",
   "execution_count": 3,
   "metadata": {},
   "outputs": [
    {
     "name": "stdout",
     "output_type": "stream",
     "text": [
      "R1 is set to: 22000\n",
      "R2 is set to: 20000\n",
      "555 timer astable mode duty cycle.\n",
      "0.6774193548387096\n",
      "if input voltage is 12V, output will be: 8.129032258064516 volt.\n"
     ]
    },
    {
     "name": "stdin",
     "output_type": "stream",
     "text": [
      "enter c value:{ }uF. 2200\n"
     ]
    },
    {
     "name": "stdout",
     "output_type": "stream",
     "text": [
      "timing.\n",
      "on time(t1): 64.03319999999998 sec\n",
      "off time(t2): 30.49199999999999 sec\n"
     ]
    }
   ],
   "source": [
    "calc_this(22000,20000)"
   ]
  },
  {
   "cell_type": "code",
   "execution_count": 5,
   "metadata": {},
   "outputs": [
    {
     "data": {
      "text/plain": [
       "30.49199999999999"
      ]
     },
     "execution_count": 5,
     "metadata": {},
     "output_type": "execute_result"
    }
   ],
   "source": [
    "0.693*(20000)*(2200*10**-6)"
   ]
  },
  {
   "cell_type": "code",
   "execution_count": null,
   "metadata": {},
   "outputs": [],
   "source": []
  }
 ],
 "metadata": {
  "kernelspec": {
   "display_name": "Python 3",
   "language": "python",
   "name": "python3"
  },
  "language_info": {
   "codemirror_mode": {
    "name": "ipython",
    "version": 3
   },
   "file_extension": ".py",
   "mimetype": "text/x-python",
   "name": "python",
   "nbconvert_exporter": "python",
   "pygments_lexer": "ipython3",
   "version": "3.6.10"
  }
 },
 "nbformat": 4,
 "nbformat_minor": 4
}
